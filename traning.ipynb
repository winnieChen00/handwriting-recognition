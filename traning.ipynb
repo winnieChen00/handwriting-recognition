{
 "cells": [
  {
   "cell_type": "code",
   "execution_count": 1,
   "id": "0791fd71",
   "metadata": {},
   "outputs": [
    {
     "name": "stdout",
     "output_type": "stream",
     "text": [
      "training...\n",
      "ok\n",
      "testing...\n",
      "0.9688\n"
     ]
    }
   ],
   "source": [
    "import cv2\n",
    "import numpy as np\n",
    "from keras.datasets import mnist\n",
    "from keras import utils\n",
    "\n",
    "(x_train, y_train), (x_test, y_test) = mnist.load_data()  # 載入訓練集\n",
    "\n",
    "# 訓練集資料\n",
    "x_train = x_train.reshape(x_train.shape[0],-1)  # 轉換資料形狀\n",
    "x_train = x_train.astype('float32')/255         # 轉換資料型別\n",
    "y_train = y_train.astype(np.float32)\n",
    "\n",
    "# 測試集資料\n",
    "x_test = x_test.reshape(x_test.shape[0],-1)     # 轉換資料形狀\n",
    "x_test = x_test.astype('float32')/255           # 轉換資料型別\n",
    "y_test = y_test.astype(np.float32)\n",
    "\n",
    "knn=cv2.ml.KNearest_create()                    # 建立 KNN 訓練方法\n",
    "knn.setDefaultK(5)                              # 參數設定\n",
    "knn.setIsClassifier(True)\n",
    "\n",
    "print('training...')\n",
    "knn.train(x_train, cv2.ml.ROW_SAMPLE, y_train)  # 開始訓練\n",
    "knn.save('mnist_knn.xml')                       # 儲存訓練模型\n",
    "print('ok')\n",
    "\n",
    "print('testing...')\n",
    "test_pre = knn.predict(x_test)                  # 讀取測試集並進行辨識\n",
    "test_ret = test_pre[1]\n",
    "test_ret = test_ret.reshape(-1,)\n",
    "test_sum = (test_ret == y_test)\n",
    "acc = test_sum.mean()                           # 得到準確率\n",
    "print(acc)"
   ]
  }
 ],
 "metadata": {
  "kernelspec": {
   "display_name": "Python 3 (ipykernel)",
   "language": "python",
   "name": "python3"
  },
  "language_info": {
   "codemirror_mode": {
    "name": "ipython",
    "version": 3
   },
   "file_extension": ".py",
   "mimetype": "text/x-python",
   "name": "python",
   "nbconvert_exporter": "python",
   "pygments_lexer": "ipython3",
   "version": "3.9.12"
  }
 },
 "nbformat": 4,
 "nbformat_minor": 5
}
